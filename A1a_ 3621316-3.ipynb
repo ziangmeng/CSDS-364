{
 "cells": [
  {
   "cell_type": "markdown",
   "id": "b02cf60e",
   "metadata": {},
   "source": [
    "\n",
    "# 1. Markdown and latex\n",
    "## 1a.univariate normal probability distribution function\n",
    "$$p(x | \\mu, \\sigma)= \\frac{1}{\\sqrt{ 2 \\pi \\sigma^2 }} \\, \\mathrm{e}^{-(x - \\mu)^2/(2 \\sigma^2)} $$\n"
   ]
  },
  {
   "cell_type": "markdown",
   "id": "2c3a8e08",
   "metadata": {},
   "source": [
    "## 1b.\n",
    "When two or more random variables are independent, the joint probability of these variables is simply the product of the individual probabilities of each variable.\n",
    "If X1, X2, ..., Xn are independent random variables with the same mean, 𝜇 and variance, 𝜎^2, the joint probability density function (pdf) of X1, X2, ..., Xn is given by:\n",
    "$$p(x1,x2,...,xn | \\mu, \\sigma)= \\prod_{i=1}^n p(xi| \\mu, \\sigma)$$\n",
    "This can also be written as:\n",
    "$$p(x1,x2,...,xn | \\mu, \\sigma)= \\frac{1}{\\sqrt{ 2 \\pi \\sigma^2 }} \\, \\mathrm{e}^{-(x1 - \\mu)^2/(2 \\sigma^2)}\\frac{1}{\\sqrt{ 2 \\pi \\sigma^2 }} \\, \\mathrm{e}^{-(x2 - \\mu)^2/(2 \\sigma^2)}...\\frac{1}{\\sqrt{ 2 \\pi \\sigma^2 }} \\, \\mathrm{e}^{-(xn - \\mu)^2/(2 \\sigma^2)}$$\n",
    "$$=\\frac{1}{(2\\pi\\sigma^{2})^{N/2}}\\exp\\left(-\\frac{1}{2}\\sum_{i=1}^{N}\\frac{(x_{i}-\\mu)^{2}}{\\sigma^{2}}\\right)$$"
   ]
  },
  {
   "cell_type": "markdown",
   "id": "ad265466",
   "metadata": {},
   "source": [
    "# 2. Simple functions and plotting"
   ]
  },
  {
   "cell_type": "code",
   "execution_count": 62,
   "id": "4b712538",
   "metadata": {},
   "outputs": [],
   "source": [
    "import numpy as np\n",
    "import matplotlib.pyplot as plt\n",
    "\n",
    "def g(x, mu, sigma):\n",
    "    return (1 / (np.sqrt(2 * np.pi * (sigma ** 2)))) * np.exp(-(x - mu) ** 2 / (2 * sigma ** 2))"
   ]
  },
  {
   "cell_type": "code",
   "execution_count": 68,
   "id": "4e83687e",
   "metadata": {},
   "outputs": [
    {
     "data": {
      "image/png": "[encoded data removed]",
      "text/plain": [
       "<Figure size 432x288 with 1 Axes>"
      ]
     },
     "metadata": {
      "needs_background": "light"
     },
     "output_type": "display_data"
    }
   ],
   "source": [
    "x1 = 0\n",
    "mu = 0\n",
    "sigma = 1\n",
    "y1 = g(x1,mu=mu, sigma=sigma)\n",
    "x = np.linspace(mu - 4 * sigma, mu + 4 * sigma, 1000)\n",
    "y = g(x, mu=mu, sigma=sigma)\n",
    "\n",
    "fig, ax = plt.subplots()\n",
    "ax.plot(x, y)\n",
    "ax.set_xlabel('x')\n",
    "ax.set_ylabel('p(x)')\n",
    "ax.plot([x1, x1],[x1,y1],markevery=[1],marker=\"s\")\n",
    "ax.annotate('x1 = (%.1f, %.3f)'%(x1,g(x1,mu=mu, sigma=sigma)),xy =(x1, g(x1, mu=mu, sigma=sigma)))\n",
    "plt.show()"
   ]
  },
  {
   "cell_type": "code",
   "execution_count": null,
   "id": "49016000-1b0c-4aba-830b-c817b5859c0e",
   "metadata": {},
   "outputs": [],
   "source": []
  }
 ],
 "metadata": {
  "kernelspec": {
   "display_name": "Python 3 (ipykernel)",
   "language": "python",
   "name": "python3"
  },
  "language_info": {
   "codemirror_mode": {
    "name": "ipython",
    "version": 3
   },
   "file_extension": ".py",
   "mimetype": "text/x-python",
   "name": "python",
   "nbconvert_exporter": "python",
   "pygments_lexer": "ipython3",
   "version": "3.9.7"
  }
 },
 "nbformat": 4,
 "nbformat_minor": 5
}
